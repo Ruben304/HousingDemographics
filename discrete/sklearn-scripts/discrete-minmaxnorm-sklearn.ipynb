{
 "cells": [
  {
   "cell_type": "markdown",
   "metadata": {},
   "source": [
    "# Sklearn Discrete MeanMaxNorm"
   ]
  },
  {
   "cell_type": "code",
   "execution_count": 1,
   "metadata": {},
   "outputs": [],
   "source": [
    "import pandas as pd\n",
    "discreteDf = pd.read_csv('../discrete_minmaxnorm_dataset.csv')"
   ]
  },
  {
   "cell_type": "code",
   "execution_count": 2,
   "metadata": {},
   "outputs": [],
   "source": [
    "X = discreteDf[['WHITE',\n",
    "            'BLACK_OR_AFRICAN_AMERICAN',\n",
    "            'AMERICAN_INDIAN_AND_ALASKA_NATIVE',\n",
    "            'ASIAN',\n",
    "            'NATIVE_HAWAIIAN_AND_OTHER_PACIFIC_ISLANDER',\n",
    "            'HISPANIC_OR_LATINO'\n",
    "            ]]\n",
    "y = discreteDf['GrowthRate']"
   ]
  },
  {
   "cell_type": "code",
   "execution_count": 3,
   "metadata": {},
   "outputs": [],
   "source": [
    "from sklearn.model_selection import train_test_split\n",
    "from sklearn.metrics import root_mean_squared_error\n",
    "import time\n",
    "\n",
    "X_train, X_test, y_train, y_test = train_test_split(X, y , test_size=0.25, random_state=0)\n",
    "models = {}\n",
    "rmseValues = {}\n",
    "trainingTimes = {}\n",
    "predictionTimes = {}"
   ]
  },
  {
   "cell_type": "code",
   "execution_count": 4,
   "metadata": {},
   "outputs": [],
   "source": [
    "def processModel(model, modelKey):\n",
    "    # Train Model\n",
    "    print('----- ----- -----')\n",
    "    print('Training model', modelKey)\n",
    "    trainingStartTime = time.time()\n",
    "    trainedModel = model.fit(X_train, y_train)\n",
    "    trainingTime = time.time() - trainingStartTime\n",
    "    print('Finished training in ' + str(trainingTime) + 's')\n",
    "\n",
    "    # Predict\n",
    "    print('Predicting on model', modelKey)\n",
    "    predictionStartTime = time.time()\n",
    "    modelPredictions = trainedModel.predict(X_test)\n",
    "    predictionTime = time.time() - predictionStartTime\n",
    "    print('Finished predictions in ' + str(predictionTime) + 's')\n",
    "\n",
    "    # Get Accuracy\n",
    "    print('Getting RMSE on model', modelKey)\n",
    "    rmse = root_mean_squared_error(y_test, modelPredictions)\n",
    "\n",
    "    # Finished\n",
    "    print()\n",
    "    print('Finished processing model', modelKey)\n",
    "    print('RMSE: ' + str(rmse))\n",
    "    print('Training time: ' + str(trainingTime) + 's')\n",
    "    print('Prediction time: ' + str(predictionTime) + 's')\n",
    "    print('----- ----- -----')\n",
    "\n",
    "    return (rmse, trainingTime, predictionTime)"
   ]
  },
  {
   "cell_type": "code",
   "execution_count": 5,
   "metadata": {},
   "outputs": [
    {
     "name": "stdout",
     "output_type": "stream",
     "text": [
      "----- ----- -----\n",
      "Training model Linear Regression\n",
      "Finished training in 0.03513598442077637s\n",
      "Predicting on model Linear Regression\n",
      "Finished predictions in 0.002259969711303711s\n",
      "Getting RMSE on model Linear Regression\n",
      "\n",
      "Finished processing model Linear Regression\n",
      "RMSE: 0.022881842900936138\n",
      "Training time: 0.03513598442077637s\n",
      "Prediction time: 0.002259969711303711s\n",
      "----- ----- -----\n"
     ]
    }
   ],
   "source": [
    "# Set Model Properties\n",
    "model = 'Linear Regression'\n",
    "from sklearn.linear_model import LinearRegression\n",
    "models[model] = LinearRegression()\n",
    "rmseValues[model], trainingTimes[model], predictionTimes[model] = processModel(models[model], model)"
   ]
  },
  {
   "cell_type": "code",
   "execution_count": 6,
   "metadata": {},
   "outputs": [
    {
     "name": "stdout",
     "output_type": "stream",
     "text": [
      "----- ----- -----\n",
      "Training model Ridge Regression\n",
      "Finished training in 0.013705968856811523s\n",
      "Predicting on model Ridge Regression\n",
      "Finished predictions in 0.0022211074829101562s\n",
      "Getting RMSE on model Ridge Regression\n",
      "\n",
      "Finished processing model Ridge Regression\n",
      "RMSE: 0.02288129782806974\n",
      "Training time: 0.013705968856811523s\n",
      "Prediction time: 0.0022211074829101562s\n",
      "----- ----- -----\n"
     ]
    }
   ],
   "source": [
    "# Set Model Properties\n",
    "model = 'Ridge Regression'\n",
    "from sklearn.linear_model import Ridge\n",
    "models[model] = Ridge()\n",
    "rmseValues[model], trainingTimes[model], predictionTimes[model] = processModel(models[model], model)"
   ]
  },
  {
   "cell_type": "code",
   "execution_count": 7,
   "metadata": {},
   "outputs": [
    {
     "name": "stdout",
     "output_type": "stream",
     "text": [
      "----- ----- -----\n",
      "Training model Ridge Cross Validation Regression\n",
      "Finished training in 0.09563231468200684s\n",
      "Predicting on model Ridge Cross Validation Regression\n",
      "Finished predictions in 0.0020759105682373047s\n",
      "Getting RMSE on model Ridge Cross Validation Regression\n",
      "\n",
      "Finished processing model Ridge Cross Validation Regression\n",
      "RMSE: 0.022880803189170625\n",
      "Training time: 0.09563231468200684s\n",
      "Prediction time: 0.0020759105682373047s\n",
      "----- ----- -----\n"
     ]
    }
   ],
   "source": [
    "# Set Model Properties\n",
    "model = 'Ridge Cross Validation Regression'\n",
    "from sklearn.linear_model import RidgeCV\n",
    "models[model] = RidgeCV()\n",
    "rmseValues[model], trainingTimes[model], predictionTimes[model] = processModel(models[model], model)"
   ]
  },
  {
   "cell_type": "code",
   "execution_count": 8,
   "metadata": {},
   "outputs": [
    {
     "name": "stdout",
     "output_type": "stream",
     "text": [
      "----- ----- -----\n",
      "Training model Huber Regression (Outlier Robust)\n",
      "Finished training in 1.349682092666626s\n",
      "Predicting on model Huber Regression (Outlier Robust)\n",
      "Finished predictions in 0.0015938282012939453s\n",
      "Getting RMSE on model Huber Regression (Outlier Robust)\n",
      "\n",
      "Finished processing model Huber Regression (Outlier Robust)\n",
      "RMSE: 0.022921626446803102\n",
      "Training time: 1.349682092666626s\n",
      "Prediction time: 0.0015938282012939453s\n",
      "----- ----- -----\n"
     ]
    }
   ],
   "source": [
    "# Set Model Properties\n",
    "model = 'Huber Regression (Outlier Robust)'\n",
    "from sklearn.linear_model import HuberRegressor\n",
    "models[model] = HuberRegressor()\n",
    "rmseValues[model], trainingTimes[model], predictionTimes[model] = processModel(models[model], model)"
   ]
  },
  {
   "cell_type": "code",
   "execution_count": 9,
   "metadata": {},
   "outputs": [
    {
     "name": "stdout",
     "output_type": "stream",
     "text": [
      "----- ----- -----\n",
      "Training model Decision Tree Regression\n",
      "Finished training in 1.853714942932129s\n",
      "Predicting on model Decision Tree Regression\n",
      "Finished predictions in 0.04100394248962402s\n",
      "Getting RMSE on model Decision Tree Regression\n",
      "\n",
      "Finished processing model Decision Tree Regression\n",
      "RMSE: 0.03198303655982482\n",
      "Training time: 1.853714942932129s\n",
      "Prediction time: 0.04100394248962402s\n",
      "----- ----- -----\n"
     ]
    }
   ],
   "source": [
    "# Set Model Properties\n",
    "model = 'Decision Tree Regression'\n",
    "from sklearn.tree import DecisionTreeRegressor\n",
    "models[model] = DecisionTreeRegressor()\n",
    "rmseValues[model], trainingTimes[model], predictionTimes[model] = processModel(models[model], model)"
   ]
  },
  {
   "cell_type": "code",
   "execution_count": 10,
   "metadata": {},
   "outputs": [
    {
     "data": {
      "text/html": [
       "<div>\n",
       "<style scoped>\n",
       "    .dataframe tbody tr th:only-of-type {\n",
       "        vertical-align: middle;\n",
       "    }\n",
       "\n",
       "    .dataframe tbody tr th {\n",
       "        vertical-align: top;\n",
       "    }\n",
       "\n",
       "    .dataframe thead th {\n",
       "        text-align: right;\n",
       "    }\n",
       "</style>\n",
       "<table border=\"1\" class=\"dataframe\">\n",
       "  <thead>\n",
       "    <tr style=\"text-align: right;\">\n",
       "      <th></th>\n",
       "      <th>RMSE</th>\n",
       "      <th>TrainingTime</th>\n",
       "      <th>PredictionTime</th>\n",
       "    </tr>\n",
       "  </thead>\n",
       "  <tbody>\n",
       "    <tr>\n",
       "      <th>Ridge Cross Validation Regression</th>\n",
       "      <td>0.022881</td>\n",
       "      <td>0.095632</td>\n",
       "      <td>0.002076</td>\n",
       "    </tr>\n",
       "    <tr>\n",
       "      <th>Ridge Regression</th>\n",
       "      <td>0.022881</td>\n",
       "      <td>0.013706</td>\n",
       "      <td>0.002221</td>\n",
       "    </tr>\n",
       "    <tr>\n",
       "      <th>Linear Regression</th>\n",
       "      <td>0.022882</td>\n",
       "      <td>0.035136</td>\n",
       "      <td>0.002260</td>\n",
       "    </tr>\n",
       "    <tr>\n",
       "      <th>Huber Regression (Outlier Robust)</th>\n",
       "      <td>0.022922</td>\n",
       "      <td>1.349682</td>\n",
       "      <td>0.001594</td>\n",
       "    </tr>\n",
       "    <tr>\n",
       "      <th>Decision Tree Regression</th>\n",
       "      <td>0.031983</td>\n",
       "      <td>1.853715</td>\n",
       "      <td>0.041004</td>\n",
       "    </tr>\n",
       "  </tbody>\n",
       "</table>\n",
       "</div>"
      ],
      "text/plain": [
       "                                       RMSE  TrainingTime  PredictionTime\n",
       "Ridge Cross Validation Regression  0.022881      0.095632        0.002076\n",
       "Ridge Regression                   0.022881      0.013706        0.002221\n",
       "Linear Regression                  0.022882      0.035136        0.002260\n",
       "Huber Regression (Outlier Robust)  0.022922      1.349682        0.001594\n",
       "Decision Tree Regression           0.031983      1.853715        0.041004"
      ]
     },
     "execution_count": 10,
     "metadata": {},
     "output_type": "execute_result"
    }
   ],
   "source": [
    "resultsDf = pd.DataFrame(index=models.keys(), columns=['RMSE', 'TrainingTime', 'PredictionTime'])\n",
    "resultsDf['RMSE'] = rmseValues.values()\n",
    "resultsDf['TrainingTime'] = trainingTimes.values()\n",
    "resultsDf['PredictionTime'] = predictionTimes.values()\n",
    "resultsDf = resultsDf.sort_values(by='RMSE', ascending=True)\n",
    "\n",
    "resultsDf"
   ]
  }
 ],
 "metadata": {
  "kernelspec": {
   "display_name": "venv",
   "language": "python",
   "name": "python3"
  },
  "language_info": {
   "codemirror_mode": {
    "name": "ipython",
    "version": 3
   },
   "file_extension": ".py",
   "mimetype": "text/x-python",
   "name": "python",
   "nbconvert_exporter": "python",
   "pygments_lexer": "ipython3",
   "version": "3.11.6"
  }
 },
 "nbformat": 4,
 "nbformat_minor": 2
}
