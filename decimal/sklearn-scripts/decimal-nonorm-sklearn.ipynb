{
 "cells": [
  {
   "cell_type": "markdown",
   "metadata": {},
   "source": [
    "# Sklearn Decimal NoNorm"
   ]
  },
  {
   "cell_type": "code",
   "execution_count": 1,
   "metadata": {},
   "outputs": [],
   "source": [
    "import pandas as pd\n",
    "decimalDf = pd.read_csv('../decimal_nonorm_dataset.csv')"
   ]
  },
  {
   "cell_type": "code",
   "execution_count": 2,
   "metadata": {},
   "outputs": [],
   "source": [
    "X = decimalDf[['WHITE',\n",
    "            'BLACK_OR_AFRICAN_AMERICAN',\n",
    "            'AMERICAN_INDIAN_AND_ALASKA_NATIVE',\n",
    "            'ASIAN',\n",
    "            'NATIVE_HAWAIIAN_AND_OTHER_PACIFIC_ISLANDER',\n",
    "            'HISPANIC_OR_LATINO'\n",
    "            ]]\n",
    "y = decimalDf['GrowthRate']"
   ]
  },
  {
   "cell_type": "code",
   "execution_count": 3,
   "metadata": {},
   "outputs": [],
   "source": [
    "from sklearn.model_selection import train_test_split\n",
    "from sklearn.metrics import root_mean_squared_error\n",
    "import time\n",
    "\n",
    "X_train, X_test, y_train, y_test = train_test_split(X, y , test_size=0.25, random_state=0)\n",
    "models = {}\n",
    "rmseValues = {}\n",
    "trainingTimes = {}\n",
    "predictionTimes = {}"
   ]
  },
  {
   "cell_type": "code",
   "execution_count": 4,
   "metadata": {},
   "outputs": [],
   "source": [
    "def processModel(model, modelKey):\n",
    "    # Train Model\n",
    "    print('----- ----- -----')\n",
    "    print('Training model', modelKey)\n",
    "    trainingStartTime = time.time()\n",
    "    trainedModel = model.fit(X_train, y_train)\n",
    "    trainingTime = time.time() - trainingStartTime\n",
    "    print('Finished training in ' + str(trainingTime) + 's')\n",
    "\n",
    "    # Predict\n",
    "    print('Predicting on model', modelKey)\n",
    "    predictionStartTime = time.time()\n",
    "    modelPredictions = trainedModel.predict(X_test)\n",
    "    predictionTime = time.time() - predictionStartTime\n",
    "    print('Finished predictions in ' + str(predictionTime) + 's')\n",
    "\n",
    "    # Get Accuracy\n",
    "    print('Getting RMSE on model', modelKey)\n",
    "    rmse = root_mean_squared_error(y_test, modelPredictions)\n",
    "\n",
    "    # Finished\n",
    "    print()\n",
    "    print('Finished processing model', modelKey)\n",
    "    print('RMSE: ' + str(rmse))\n",
    "    print('Training time: ' + str(trainingTime) + 's')\n",
    "    print('Prediction time: ' + str(predictionTime) + 's')\n",
    "    print('----- ----- -----')\n",
    "\n",
    "    return (rmse, trainingTime, predictionTime)"
   ]
  },
  {
   "cell_type": "code",
   "execution_count": 5,
   "metadata": {},
   "outputs": [
    {
     "name": "stdout",
     "output_type": "stream",
     "text": [
      "----- ----- -----\n",
      "Training model Linear Regression\n",
      "Finished training in 0.050477027893066406s\n",
      "Predicting on model Linear Regression\n",
      "Finished predictions in 0.0027823448181152344s\n",
      "Getting RMSE on model Linear Regression\n",
      "\n",
      "Finished processing model Linear Regression\n",
      "RMSE: 30.047413614808296\n",
      "Training time: 0.050477027893066406s\n",
      "Prediction time: 0.0027823448181152344s\n",
      "----- ----- -----\n"
     ]
    }
   ],
   "source": [
    "# Set Model Properties\n",
    "model = 'Linear Regression'\n",
    "from sklearn.linear_model import LinearRegression\n",
    "models[model] = LinearRegression()\n",
    "rmseValues[model], trainingTimes[model], predictionTimes[model] = processModel(models[model], model)"
   ]
  },
  {
   "cell_type": "code",
   "execution_count": 6,
   "metadata": {},
   "outputs": [
    {
     "name": "stdout",
     "output_type": "stream",
     "text": [
      "----- ----- -----\n",
      "Training model Ridge Regression\n",
      "Finished training in 0.01647806167602539s\n",
      "Predicting on model Ridge Regression\n",
      "Finished predictions in 0.001971006393432617s\n",
      "Getting RMSE on model Ridge Regression\n",
      "\n",
      "Finished processing model Ridge Regression\n",
      "RMSE: 30.047413614806636\n",
      "Training time: 0.01647806167602539s\n",
      "Prediction time: 0.001971006393432617s\n",
      "----- ----- -----\n"
     ]
    }
   ],
   "source": [
    "# Set Model Properties\n",
    "model = 'Ridge Regression'\n",
    "from sklearn.linear_model import Ridge\n",
    "models[model] = Ridge()\n",
    "rmseValues[model], trainingTimes[model], predictionTimes[model] = processModel(models[model], model)"
   ]
  },
  {
   "cell_type": "code",
   "execution_count": 7,
   "metadata": {},
   "outputs": [
    {
     "name": "stdout",
     "output_type": "stream",
     "text": [
      "----- ----- -----\n",
      "Training model Ridge Cross Validation Regression\n",
      "Finished training in 0.13575100898742676s\n",
      "Predicting on model Ridge Cross Validation Regression\n",
      "Finished predictions in 0.002929210662841797s\n",
      "Getting RMSE on model Ridge Cross Validation Regression\n",
      "\n",
      "Finished processing model Ridge Cross Validation Regression\n",
      "RMSE: 30.047413610206068\n",
      "Training time: 0.13575100898742676s\n",
      "Prediction time: 0.002929210662841797s\n",
      "----- ----- -----\n"
     ]
    }
   ],
   "source": [
    "# Set Model Properties\n",
    "model = 'Ridge Cross Validation Regression'\n",
    "from sklearn.linear_model import RidgeCV\n",
    "models[model] = RidgeCV()\n",
    "rmseValues[model], trainingTimes[model], predictionTimes[model] = processModel(models[model], model)"
   ]
  },
  {
   "cell_type": "code",
   "execution_count": 8,
   "metadata": {},
   "outputs": [
    {
     "name": "stdout",
     "output_type": "stream",
     "text": [
      "----- ----- -----\n",
      "Training model Huber Regression (Outlier Robust)\n"
     ]
    },
    {
     "name": "stdout",
     "output_type": "stream",
     "text": [
      "Finished training in 2.042593002319336s\n",
      "Predicting on model Huber Regression (Outlier Robust)\n",
      "Finished predictions in 0.0016219615936279297s\n",
      "Getting RMSE on model Huber Regression (Outlier Robust)\n",
      "\n",
      "Finished processing model Huber Regression (Outlier Robust)\n",
      "RMSE: 40.935314620920714\n",
      "Training time: 2.042593002319336s\n",
      "Prediction time: 0.0016219615936279297s\n",
      "----- ----- -----\n"
     ]
    }
   ],
   "source": [
    "# Set Model Properties\n",
    "model = 'Huber Regression (Outlier Robust)'\n",
    "from sklearn.linear_model import HuberRegressor\n",
    "models[model] = HuberRegressor()\n",
    "rmseValues[model], trainingTimes[model], predictionTimes[model] = processModel(models[model], model)"
   ]
  },
  {
   "cell_type": "code",
   "execution_count": 9,
   "metadata": {},
   "outputs": [
    {
     "name": "stdout",
     "output_type": "stream",
     "text": [
      "----- ----- -----\n",
      "Training model Decision Tree Regression\n",
      "Finished training in 2.4787368774414062s\n",
      "Predicting on model Decision Tree Regression\n",
      "Finished predictions in 0.0771017074584961s\n",
      "Getting RMSE on model Decision Tree Regression\n",
      "\n",
      "Finished processing model Decision Tree Regression\n",
      "RMSE: 43.13518133651018\n",
      "Training time: 2.4787368774414062s\n",
      "Prediction time: 0.0771017074584961s\n",
      "----- ----- -----\n"
     ]
    }
   ],
   "source": [
    "# Set Model Properties\n",
    "model = 'Decision Tree Regression'\n",
    "from sklearn.tree import DecisionTreeRegressor\n",
    "models[model] = DecisionTreeRegressor()\n",
    "rmseValues[model], trainingTimes[model], predictionTimes[model] = processModel(models[model], model)"
   ]
  },
  {
   "cell_type": "code",
   "execution_count": 10,
   "metadata": {},
   "outputs": [
    {
     "data": {
      "text/html": [
       "<div>\n",
       "<style scoped>\n",
       "    .dataframe tbody tr th:only-of-type {\n",
       "        vertical-align: middle;\n",
       "    }\n",
       "\n",
       "    .dataframe tbody tr th {\n",
       "        vertical-align: top;\n",
       "    }\n",
       "\n",
       "    .dataframe thead th {\n",
       "        text-align: right;\n",
       "    }\n",
       "</style>\n",
       "<table border=\"1\" class=\"dataframe\">\n",
       "  <thead>\n",
       "    <tr style=\"text-align: right;\">\n",
       "      <th></th>\n",
       "      <th>RMSE</th>\n",
       "      <th>TrainingTime</th>\n",
       "      <th>PredictionTime</th>\n",
       "    </tr>\n",
       "  </thead>\n",
       "  <tbody>\n",
       "    <tr>\n",
       "      <th>Ridge Cross Validation Regression</th>\n",
       "      <td>30.047414</td>\n",
       "      <td>0.135751</td>\n",
       "      <td>0.002929</td>\n",
       "    </tr>\n",
       "    <tr>\n",
       "      <th>Ridge Regression</th>\n",
       "      <td>30.047414</td>\n",
       "      <td>0.016478</td>\n",
       "      <td>0.001971</td>\n",
       "    </tr>\n",
       "    <tr>\n",
       "      <th>Linear Regression</th>\n",
       "      <td>30.047414</td>\n",
       "      <td>0.050477</td>\n",
       "      <td>0.002782</td>\n",
       "    </tr>\n",
       "    <tr>\n",
       "      <th>Huber Regression (Outlier Robust)</th>\n",
       "      <td>40.935315</td>\n",
       "      <td>2.042593</td>\n",
       "      <td>0.001622</td>\n",
       "    </tr>\n",
       "    <tr>\n",
       "      <th>Decision Tree Regression</th>\n",
       "      <td>43.135181</td>\n",
       "      <td>2.478737</td>\n",
       "      <td>0.077102</td>\n",
       "    </tr>\n",
       "  </tbody>\n",
       "</table>\n",
       "</div>"
      ],
      "text/plain": [
       "                                        RMSE  TrainingTime  PredictionTime\n",
       "Ridge Cross Validation Regression  30.047414      0.135751        0.002929\n",
       "Ridge Regression                   30.047414      0.016478        0.001971\n",
       "Linear Regression                  30.047414      0.050477        0.002782\n",
       "Huber Regression (Outlier Robust)  40.935315      2.042593        0.001622\n",
       "Decision Tree Regression           43.135181      2.478737        0.077102"
      ]
     },
     "execution_count": 10,
     "metadata": {},
     "output_type": "execute_result"
    }
   ],
   "source": [
    "resultsDf = pd.DataFrame(index=models.keys(), columns=['RMSE', 'TrainingTime', 'PredictionTime'])\n",
    "resultsDf['RMSE'] = rmseValues.values()\n",
    "resultsDf['TrainingTime'] = trainingTimes.values()\n",
    "resultsDf['PredictionTime'] = predictionTimes.values()\n",
    "resultsDf = resultsDf.sort_values(by='RMSE', ascending=True)\n",
    "\n",
    "resultsDf"
   ]
  }
 ],
 "metadata": {
  "kernelspec": {
   "display_name": "venv",
   "language": "python",
   "name": "python3"
  },
  "language_info": {
   "codemirror_mode": {
    "name": "ipython",
    "version": 3
   },
   "file_extension": ".py",
   "mimetype": "text/x-python",
   "name": "python",
   "nbconvert_exporter": "python",
   "pygments_lexer": "ipython3",
   "version": "3.11.6"
  }
 },
 "nbformat": 4,
 "nbformat_minor": 2
}
