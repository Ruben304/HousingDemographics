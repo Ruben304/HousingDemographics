{
 "cells": [
  {
   "cell_type": "markdown",
   "metadata": {},
   "source": [
    "# Sklearn Binary"
   ]
  },
  {
   "cell_type": "code",
   "execution_count": 74,
   "metadata": {},
   "outputs": [],
   "source": [
    "import pandas as pd\n",
    "binaryDf = pd.read_csv('binary_dataset.csv')"
   ]
  },
  {
   "cell_type": "code",
   "execution_count": 46,
   "metadata": {},
   "outputs": [],
   "source": [
    "X = binaryDf[['WHITE',\n",
    "            'BLACK_OR_AFRICAN_AMERICAN',\n",
    "            'AMERICAN_INDIAN_AND_ALASKA_NATIVE',\n",
    "            'ASIAN',\n",
    "            'NATIVE_HAWAIIAN_AND_OTHER_PACIFIC_ISLANDER',\n",
    "            'HISPANIC_OR_LATINO'\n",
    "            ]]\n",
    "y = binaryDf['GrowthRate']"
   ]
  },
  {
   "cell_type": "code",
   "execution_count": 59,
   "metadata": {},
   "outputs": [],
   "source": [
    "from sklearn.model_selection import train_test_split\n",
    "import time\n",
    "\n",
    "X_train, X_test, y_train, y_test = train_test_split(X, y , test_size=0.25, random_state=0)\n",
    "models = {}\n",
    "accuracies = {}\n",
    "trainingTimes = {}\n",
    "predictionTimes = {}"
   ]
  },
  {
   "cell_type": "code",
   "execution_count": 60,
   "metadata": {},
   "outputs": [],
   "source": [
    "def processModel(model, modelKey):\n",
    "    # Train Model\n",
    "    print('----- ----- -----')\n",
    "    print('Training model', modelKey)\n",
    "    trainingStartTime = time.time()\n",
    "    trainedModel = model.fit(X_train, y_train)\n",
    "    trainingTime = time.time() - trainingStartTime\n",
    "    print('Finished training in ' + str(trainingTime) + 's')\n",
    "\n",
    "    # Predict\n",
    "    print('Predicting on model', modelKey)\n",
    "    predictionStartTime = time.time()\n",
    "    modelPredictions = trainedModel.predict(X_test)\n",
    "    predictionTime = time.time() - predictionStartTime\n",
    "    print('Finished predictions in ' + str(predictionTime) + 's')\n",
    "\n",
    "    # Get Accuracy\n",
    "    print('Getting accuracies on model', modelKey)\n",
    "    accuracy = trainedModel.score(X_test, y_test)\n",
    "\n",
    "    # Finished\n",
    "    print()\n",
    "    print('Finished processing model', modelKey)\n",
    "    print('Accuracy: ' + str(accuracy))\n",
    "    print('Training time: ' + str(trainingTime) + 's')\n",
    "    print('Prediction time: ' + str(predictionTime) + 's')\n",
    "    print('----- ----- -----')\n",
    "\n",
    "    return (accuracy, trainingTime, predictionTime)"
   ]
  },
  {
   "cell_type": "code",
   "execution_count": 61,
   "metadata": {},
   "outputs": [
    {
     "name": "stdout",
     "output_type": "stream",
     "text": [
      "----- ----- -----\n",
      "Training model SVM Linear Kernel\n",
      "Finished training in 233.9371931552887s\n",
      "Predicting on model SVM Linear Kernel\n",
      "Finished predictions in 49.902108907699585s\n",
      "Getting accuracies on model SVM Linear Kernel\n",
      "\n",
      "Finished processing model SVM Linear Kernel\n",
      "Accuracy: 0.8622945052133307\n",
      "Training time: 233.9371931552887s\n",
      "Prediction time: 49.902108907699585s\n",
      "----- ----- -----\n"
     ]
    }
   ],
   "source": [
    "# Set Model Properties\n",
    "model = 'SVM Linear Kernel'\n",
    "from sklearn.svm import SVC\n",
    "models[model] = SVC(kernel = 'linear', C = 1)\n",
    "accuracies[model], trainingTimes[model], predictionTimes[model] = processModel(models[model], model)"
   ]
  },
  {
   "cell_type": "code",
   "execution_count": 64,
   "metadata": {},
   "outputs": [
    {
     "name": "stdout",
     "output_type": "stream",
     "text": [
      "----- ----- -----\n",
      "Training model Decision Tree Classifier\n",
      "Finished training in 0.051001787185668945s\n",
      "Predicting on model Decision Tree Classifier\n",
      "Finished predictions in 0.006173372268676758s\n",
      "Getting accuracies on model Decision Tree Classifier\n",
      "\n",
      "Finished processing model Decision Tree Classifier\n",
      "Accuracy: 0.8622945052133307\n",
      "Training time: 0.051001787185668945s\n",
      "Prediction time: 0.006173372268676758s\n",
      "----- ----- -----\n"
     ]
    }
   ],
   "source": [
    "# Set Model Properties\n",
    "model = 'Decision Tree Classifier'\n",
    "from sklearn.tree import DecisionTreeClassifier\n",
    "models[model] = DecisionTreeClassifier(max_depth = 2)\n",
    "accuracies[model], trainingTimes[model], predictionTimes[model] = processModel(models[model], model)"
   ]
  },
  {
   "cell_type": "code",
   "execution_count": 66,
   "metadata": {},
   "outputs": [
    {
     "name": "stdout",
     "output_type": "stream",
     "text": [
      "----- ----- -----\n",
      "Training model Logistic Regression\n",
      "Finished training in 0.22043704986572266s\n",
      "Predicting on model Logistic Regression\n",
      "Finished predictions in 0.0049359798431396484s\n",
      "Getting accuracies on model Logistic Regression\n",
      "\n",
      "Finished processing model Logistic Regression\n",
      "Accuracy: 0.8622945052133307\n",
      "Training time: 0.22043704986572266s\n",
      "Prediction time: 0.0049359798431396484s\n",
      "----- ----- -----\n"
     ]
    }
   ],
   "source": [
    "# Set Model Properties\n",
    "model = 'Logistic Regression'\n",
    "from sklearn.linear_model import LogisticRegression\n",
    "models[model] = LogisticRegression()\n",
    "accuracies[model], trainingTimes[model], predictionTimes[model] = processModel(models[model], model)"
   ]
  },
  {
   "cell_type": "code",
   "execution_count": 67,
   "metadata": {},
   "outputs": [
    {
     "data": {
      "text/html": [
       "<div>\n",
       "<style scoped>\n",
       "    .dataframe tbody tr th:only-of-type {\n",
       "        vertical-align: middle;\n",
       "    }\n",
       "\n",
       "    .dataframe tbody tr th {\n",
       "        vertical-align: top;\n",
       "    }\n",
       "\n",
       "    .dataframe thead th {\n",
       "        text-align: right;\n",
       "    }\n",
       "</style>\n",
       "<table border=\"1\" class=\"dataframe\">\n",
       "  <thead>\n",
       "    <tr style=\"text-align: right;\">\n",
       "      <th></th>\n",
       "      <th>Accuracy</th>\n",
       "      <th>TrainingTime</th>\n",
       "      <th>PredictionTime</th>\n",
       "    </tr>\n",
       "  </thead>\n",
       "  <tbody>\n",
       "    <tr>\n",
       "      <th>SVM Linear Kernel</th>\n",
       "      <td>0.862295</td>\n",
       "      <td>233.937193</td>\n",
       "      <td>49.902109</td>\n",
       "    </tr>\n",
       "    <tr>\n",
       "      <th>Decision Tree Classifier</th>\n",
       "      <td>0.862295</td>\n",
       "      <td>0.051002</td>\n",
       "      <td>0.006173</td>\n",
       "    </tr>\n",
       "    <tr>\n",
       "      <th>Logistic Regression</th>\n",
       "      <td>0.862295</td>\n",
       "      <td>0.220437</td>\n",
       "      <td>0.004936</td>\n",
       "    </tr>\n",
       "  </tbody>\n",
       "</table>\n",
       "</div>"
      ],
      "text/plain": [
       "                          Accuracy  TrainingTime  PredictionTime\n",
       "SVM Linear Kernel         0.862295    233.937193       49.902109\n",
       "Decision Tree Classifier  0.862295      0.051002        0.006173\n",
       "Logistic Regression       0.862295      0.220437        0.004936"
      ]
     },
     "execution_count": 67,
     "metadata": {},
     "output_type": "execute_result"
    }
   ],
   "source": [
    "resultsDf = pd.DataFrame(index=models.keys(), columns=['Accuracy', 'TrainingTime', 'PredictionTime'])\n",
    "resultsDf['Accuracy'] = accuracies.values()\n",
    "resultsDf['TrainingTime'] = trainingTimes.values()\n",
    "resultsDf['PredictionTime'] = predictionTimes.values()\n",
    "\n",
    "resultsDf"
   ]
  }
 ],
 "metadata": {
  "kernelspec": {
   "display_name": "venv",
   "language": "python",
   "name": "python3"
  },
  "language_info": {
   "codemirror_mode": {
    "name": "ipython",
    "version": 3
   },
   "file_extension": ".py",
   "mimetype": "text/x-python",
   "name": "python",
   "nbconvert_exporter": "python",
   "pygments_lexer": "ipython3",
   "version": "3.11.6"
  }
 },
 "nbformat": 4,
 "nbformat_minor": 2
}
